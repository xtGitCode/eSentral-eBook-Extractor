{
 "cells": [
  {
   "cell_type": "code",
   "execution_count": 3,
   "id": "6e834bf9",
   "metadata": {},
   "outputs": [
    {
     "data": {
      "text/plain": [
       "['Amy', 'Mary', 'Ruth', 'Peter']"
      ]
     },
     "execution_count": 3,
     "metadata": {},
     "output_type": "execute_result"
    }
   ],
   "source": [
    "# Part A\n",
    "# Find a list of all of the names in the following string using regex.\n",
    "\n",
    "import re\n",
    "simple_string = \"Amy is 5 years old, and her sister Mary is 2 years old. Ruth and Peter, their parents, have 3 kids.\"\n",
    "# YOUR CODE HERE\n",
    "pattern = '[A-Z][^\\s]+[a-z]'\n",
    "result = re.findall(pattern,simple_string)\n",
    "result\n",
    "# raise NotImplementedError()"
   ]
  },
  {
   "cell_type": "code",
   "execution_count": 4,
   "id": "553db4cb",
   "metadata": {},
   "outputs": [
    {
     "data": {
      "text/plain": [
       "['Bell Kassulke',\n",
       " 'Simon Loidl',\n",
       " 'Elias Jovanovic',\n",
       " 'Hakim Botros',\n",
       " 'Emilie Lorentsen',\n",
       " 'Jake Wood',\n",
       " 'Fatemeh Akhtar',\n",
       " 'Kim Weston',\n",
       " 'Yasmin Dar',\n",
       " 'Viswamitra Upandhye',\n",
       " 'Killian Kaufman',\n",
       " 'Elwood Page',\n",
       " 'Elodie Booker',\n",
       " 'Adnan Chen',\n",
       " 'Hank Spinka',\n",
       " 'Hannah Bayer']"
      ]
     },
     "execution_count": 4,
     "metadata": {},
     "output_type": "execute_result"
    }
   ],
   "source": [
    "# Part B\n",
    "# The dataset file in assets/grades.txt contains a line separated list of people with their grade in a class. \n",
    "# Create a regex to generate a list of just those students who received a B in the course.\n",
    "\n",
    "import re\n",
    "def grades():\n",
    "    with open (\"grades.txt\", \"r\") as file:\n",
    "        grades = file.read()\n",
    "        pattern = '([A-Z]\\w+ [A-Z]\\w+): B'\n",
    "        result = re.findall(pattern,grades)\n",
    "        return result\n",
    "grades()"
   ]
  },
  {
   "cell_type": "markdown",
   "id": "af46c884",
   "metadata": {},
   "source": [
    "# Part C\n",
    "Consider the standard web log file in assets/logdata.txt. This file records the access a user makes when visiting a web page (like this one!). Each line of the log has the following items:\n",
    "\n",
    "a host (e.g., '146.204.224.152')\n",
    "a user_name (e.g., 'feest6811' note: sometimes the user name is missing! In this case, use '-' as the value for the username.)\n",
    "the time a request was made (e.g., '21/Jun/2019:15:45:24 -0700')\n",
    "the post request type (e.g., 'POST /incentivize HTTP/1.1' note: not everything is a POST!)\n",
    "Your task is to convert this into a list of dictionaries, where each dictionary looks like the following:\n",
    "\n",
    "example_dict = {\"host\":\"146.204.224.152\", \n",
    "                \"user_name\":\"feest6811\", \n",
    "                \"time\":\"21/Jun/2019:15:45:24 -0700\",\n",
    "                \"request\":\"POST /incentivize HTTP/1.1\"}"
   ]
  },
  {
   "cell_type": "code",
   "execution_count": 9,
   "id": "0acefb7f",
   "metadata": {},
   "outputs": [],
   "source": [
    "import re\n",
    "def logs():\n",
    "    with open(\"logdata.txt\", \"r\") as file:\n",
    "        logdata = file.read()\n",
    "    logs = [] # empty list\n",
    "    pattern = '(?P<host>(?:\\d+\\.){3}\\d+)\\s+(?:\\S+)\\s+(?P<user_name>\\S+)\\s+\\[(?P<time>[-+\\w\\s:/]+)\\]\\s+\"(?P<request>.+?.+?)\"'\n",
    "    for m in re.finditer(pattern, logdata):\n",
    "        logs.append(m.groupdict()) # insert dictionary to logs list\n",
    "    return logs"
   ]
  },
  {
   "cell_type": "code",
   "execution_count": 10,
   "id": "93cba5eb",
   "metadata": {},
   "outputs": [],
   "source": [
    "assert len(logs()) == 979\n",
    "\n",
    "one_item={'host': '146.204.224.152',\n",
    "  'user_name': 'feest6811',\n",
    "  'time': '21/Jun/2019:15:45:24 -0700',\n",
    "  'request': 'POST /incentivize HTTP/1.1'}\n",
    "assert one_item in logs(), \"Sorry, this item should be in the log results, check your formating\""
   ]
  }
 ],
 "metadata": {
  "kernelspec": {
   "display_name": "Python 3 (ipykernel)",
   "language": "python",
   "name": "python3"
  },
  "language_info": {
   "codemirror_mode": {
    "name": "ipython",
    "version": 3
   },
   "file_extension": ".py",
   "mimetype": "text/x-python",
   "name": "python",
   "nbconvert_exporter": "python",
   "pygments_lexer": "ipython3",
   "version": "3.9.7"
  }
 },
 "nbformat": 4,
 "nbformat_minor": 5
}

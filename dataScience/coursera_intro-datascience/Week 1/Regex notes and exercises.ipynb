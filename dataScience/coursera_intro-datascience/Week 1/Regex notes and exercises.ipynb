{
 "cells": [
  {
   "cell_type": "markdown",
   "metadata": {},
   "source": [
    "# Regex Operations"
   ]
  },
  {
   "cell_type": "code",
   "execution_count": 2,
   "metadata": {},
   "outputs": [],
   "source": [
    "# use '\\' to indicate special forms without invoking their special meaning\n",
    "# for example want to get brackets \"()\" without its special meaning so just type \\(\\)"
   ]
  },
  {
   "cell_type": "code",
   "execution_count": 3,
   "metadata": {},
   "outputs": [],
   "source": [
    "import re"
   ]
  },
  {
   "cell_type": "code",
   "execution_count": 4,
   "metadata": {},
   "outputs": [
    {
     "data": {
      "text/plain": [
       "['9991116666', '(999)-000-7777']"
      ]
     },
     "execution_count": 4,
     "metadata": {},
     "output_type": "execute_result"
    }
   ],
   "source": [
    "text1=''' \n",
    "Elon musk's phone number is 9991116666, call him if you have any questions on dodgecoin. \n",
    "Tesla's revenue is 24 billion. Tesla's CEO number (999)-000-7777.\n",
    "'''\n",
    "# ''' allows to make string on multiple lines without add \\n everytime\n",
    "\n",
    "# pattern to match phone numbers\n",
    "pattern = '\\(\\d{3}\\)-\\d{3}-\\d{4}|\\d{10}'\n",
    "\n",
    "contact = re.findall(pattern,text1)\n",
    "contact"
   ]
  },
  {
   "cell_type": "code",
   "execution_count": 12,
   "metadata": {},
   "outputs": [
    {
     "name": "stdout",
     "output_type": "stream",
     "text": [
      "['Note 1 - Overview', 'Note 2 - Summary of Significant Accounting Policies']\n",
      "['Overview', 'Summary of Significant Accounting Policies']\n"
     ]
    }
   ],
   "source": [
    "text2='''\n",
    "Note 1 - Overview\n",
    "Tesla, Inc. (“Tesla”, the “Company”, “we”, “us” or “our”) was incorporated in the State of Delaware on July 1, 2003. We design, develop, manufacture and sell high-performance fully electric vehicles and design, manufacture, install and sell solar energy generation and energy storage\n",
    "products. Our Chief Executive Officer, as the chief operating decision maker (“CODM”), organizes our company, manages resource allocations and measures performance among two operating and reportable segments: (i) automotive and (ii) energy generation and storage.\n",
    "Beginning in the first quarter of 2021, there has been a trend in many parts of the world of increasing availability and administration of vaccines\n",
    "against COVID-19, as well as an easing of restrictions on social, business, travel and government activities and functions. On the other hand, infection\n",
    "rates and regulations continue to fluctuate in various regions and there are ongoing global impacts resulting from the pandemic, including challenges\n",
    "and increases in costs for logistics and supply chains, such as increased port congestion, intermittent supplier delays and a shortfall of semiconductor\n",
    "supply. We have also previously been affected by temporary manufacturing closures, employment and compensation adjustments and impediments to\n",
    "administrative activities supporting our product deliveries and deployments.\n",
    "Note 2 - Summary of Significant Accounting Policies\n",
    "Unaudited Interim Financial Statements\n",
    "The consolidated balance sheet as of September 30, 2021, the consolidated statements of operations, the consolidated statements of\n",
    "comprehensive income, the consolidated statements of redeemable noncontrolling interests and equity for the three and nine months ended September\n",
    "30, 2021 and 2020 and the consolidated statements of cash flows for the nine months ended September 30, 2021 and 2020, as well as other information\n",
    "disclosed in the accompanying notes, are unaudited. The consolidated balance sheet as of December 31, 2020 was derived from the audited\n",
    "consolidated financial statements as of that date. The interim consolidated financial statements and the accompanying notes should be read in\n",
    "conjunction with the annual consolidated financial statements and the accompanying notes contained in our Annual Report on Form 10-K for the year\n",
    "ended December 31, 2020.\n",
    "'''\n",
    "\n",
    "# to match Note title\n",
    "note = re.findall(\"Note \\d - [^\\n]+\",text2)\n",
    "print(note)\n",
    "\n",
    "# to match ONLY title\n",
    "title = re.findall(\"Note \\d - ([^\\n]+)\",text2) # bracket the section you only want to capture \n",
    "print(title)"
   ]
  },
  {
   "cell_type": "code",
   "execution_count": 14,
   "metadata": {},
   "outputs": [
    {
     "data": {
      "text/plain": [
       "['FY2021 Q1', 'FY2020 Q4']"
      ]
     },
     "execution_count": 14,
     "metadata": {},
     "output_type": "execute_result"
    }
   ],
   "source": [
    "text3 = '''\n",
    "The gross cost of operating lease vehicles in FY2021 Q1 was $4.85 billion.\n",
    "In previous quarter i.e. FY2020 Q4 it was $3 billion. \n",
    "'''\n",
    "# extract financial periods from a company's financial reporting\n",
    "period = re.findall(\"FY\\d{4} Q[1-4]\",text3)\n",
    "period"
   ]
  },
  {
   "cell_type": "code",
   "execution_count": 16,
   "metadata": {},
   "outputs": [
    {
     "data": {
      "text/plain": [
       "['4.85', '3']"
      ]
     },
     "execution_count": 16,
     "metadata": {},
     "output_type": "execute_result"
    }
   ],
   "source": [
    "# extract money\n",
    "money = re.findall(\"\\$([\\d\\.]+)\",text3)\n",
    "money"
   ]
  },
  {
   "cell_type": "code",
   "execution_count": 17,
   "metadata": {},
   "outputs": [
    {
     "data": {
      "text/plain": [
       "[('2021 Q1', '4.85'), ('2020 Q4', '3')]"
      ]
     },
     "execution_count": 17,
     "metadata": {},
     "output_type": "execute_result"
    }
   ],
   "source": [
    "# extract financial period and money\n",
    "match = re.findall(\"FY(\\d{4} Q[1-4]) [^$]+ \\$([\\d\\.]+)\",text3)\n",
    "match"
   ]
  },
  {
   "cell_type": "code",
   "execution_count": null,
   "metadata": {},
   "outputs": [],
   "source": []
  }
 ],
 "metadata": {
  "kernelspec": {
   "display_name": "Python 3",
   "language": "python",
   "name": "python3"
  },
  "language_info": {
   "codemirror_mode": {
    "name": "ipython",
    "version": 3
   },
   "file_extension": ".py",
   "mimetype": "text/x-python",
   "name": "python",
   "nbconvert_exporter": "python",
   "pygments_lexer": "ipython3",
   "version": "3.7.3"
  }
 },
 "nbformat": 4,
 "nbformat_minor": 2
}

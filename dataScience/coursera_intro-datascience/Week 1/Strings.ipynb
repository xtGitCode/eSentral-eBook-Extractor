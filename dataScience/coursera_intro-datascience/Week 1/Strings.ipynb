{
 "cells": [
  {
   "cell_type": "markdown",
   "metadata": {},
   "source": [
    "String manipulation"
   ]
  },
  {
   "cell_type": "code",
   "execution_count": 1,
   "metadata": {},
   "outputs": [
    {
     "name": "stdout",
     "output_type": "stream",
     "text": [
      "Chris2\n"
     ]
    }
   ],
   "source": [
    "print('Chris'+str(2))"
   ]
  },
  {
   "cell_type": "code",
   "execution_count": 4,
   "metadata": {},
   "outputs": [
    {
     "name": "stdout",
     "output_type": "stream",
     "text": [
      "Tesla bought 4 items at a price of RM3.24 each for a total of RM12.96\n"
     ]
    }
   ],
   "source": [
    "sales_record = {\n",
    "    'price':3.24,\n",
    "    'num_items': 4,\n",
    "    'person': 'Tesla'\n",
    "}\n",
    "\n",
    "sales_statement = '{} bought {} items at a price of RM{} each for a total of RM{}'\n",
    "\n",
    "print(sales_statement.format(\n",
    "    sales_record['person'],\n",
    "    sales_record['num_items'],\n",
    "    sales_record['price'],\n",
    "    sales_record['num_items'] * sales_record['price']\n",
    "))"
   ]
  },
  {
   "cell_type": "code",
   "execution_count": null,
   "metadata": {},
   "outputs": [],
   "source": []
  }
 ],
 "metadata": {
  "kernelspec": {
   "display_name": "Python 3",
   "language": "python",
   "name": "python3"
  },
  "language_info": {
   "codemirror_mode": {
    "name": "ipython",
    "version": 3
   },
   "file_extension": ".py",
   "mimetype": "text/x-python",
   "name": "python",
   "nbconvert_exporter": "python",
   "pygments_lexer": "ipython3",
   "version": "3.7.3"
  }
 },
 "nbformat": 4,
 "nbformat_minor": 2
}
